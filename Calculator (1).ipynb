{
 "cells": [
  {
   "cell_type": "code",
   "execution_count": 3,
   "id": "4c4b5615",
   "metadata": {},
   "outputs": [
    {
     "name": "stdout",
     "output_type": "stream",
     "text": [
      "1 . Addition\n",
      "2. subtraction\n",
      "3. mulltiplication\n",
      "4. division\n",
      "Select option 1/2/3/4\n",
      "enter option:1\n",
      "please enter first value:8\n",
      "please enter second value:9\n",
      "The value is: 17.0\n"
     ]
    }
   ],
   "source": [
    "import math\n",
    "def add(a,b):\n",
    "    return a+b\n",
    "def sub (a,b):\n",
    "    return a-b\n",
    "def mul (a,b):\n",
    "    return a*b\n",
    "def div (a,b):\n",
    "    return a/b\n",
    "print (\"1 . Addition\")\n",
    "print (\"2. subtraction\")\n",
    "print (\"3. mulltiplication\")\n",
    "print (\"4. division\")\n",
    "print(\"Select option 1/2/3/4\")\n",
    "choice = int(input(\"enter option:\"))\n",
    "num1 = float(int(input(\"please enter first value:\")))\n",
    "num2 = float(int(input(\"please enter second value:\")))\n",
    "if choice == 1:\n",
    "    n = add(num1,num2)\n",
    "    print(\"The value is:\",n)\n",
    "elif choice == 2:\n",
    "    n = sub(num1,num2)\n",
    "    print(\"The value is:\",n)\n",
    "elif choice ==3:\n",
    "    n = mul(num1,num3)\n",
    "    print(\"The value is:\",n)\n",
    "elif choice ==4:\n",
    "    n = div(num1,num4)\n",
    "    print(\"The value is:\",n)\n",
    "else:\n",
    "    print(\"invalid\")\n",
    "             \n",
    "             \n",
    "      \n",
    "      \n",
    "      \n",
    "\n",
    "\n"
   ]
  },
  {
   "cell_type": "code",
   "execution_count": null,
   "id": "b3586b6b",
   "metadata": {},
   "outputs": [],
   "source": []
  }
 ],
 "metadata": {
  "kernelspec": {
   "display_name": "Python 3 (ipykernel)",
   "language": "python",
   "name": "python3"
  },
  "language_info": {
   "codemirror_mode": {
    "name": "ipython",
    "version": 3
   },
   "file_extension": ".py",
   "mimetype": "text/x-python",
   "name": "python",
   "nbconvert_exporter": "python",
   "pygments_lexer": "ipython3",
   "version": "3.11.4"
  }
 },
 "nbformat": 4,
 "nbformat_minor": 5
}
